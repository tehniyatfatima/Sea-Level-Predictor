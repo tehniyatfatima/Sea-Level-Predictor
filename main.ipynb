{
 "cells": [
  {
   "cell_type": "code",
   "execution_count": 125,
   "metadata": {},
   "outputs": [],
   "source": [
    "import pandas as pd \n",
    "import matplotlib.pyplot as plt\n",
    "from scipy.stats import linregress\n",
    "import numpy as np"
   ]
  },
  {
   "cell_type": "code",
   "execution_count": 126,
   "metadata": {},
   "outputs": [
    {
     "name": "stdout",
     "output_type": "stream",
     "text": [
      "   Year  CSIRO Adjusted Sea Level  Lower Error Bound  Upper Error Bound  \\\n",
      "0  1880                  0.000000          -0.952756           0.952756   \n",
      "1  1881                  0.220472          -0.732283           1.173228   \n",
      "2  1882                 -0.440945          -1.346457           0.464567   \n",
      "3  1883                 -0.232283          -1.129921           0.665354   \n",
      "4  1884                  0.590551          -0.283465           1.464567   \n",
      "\n",
      "   NOAA Adjusted Sea Level  \n",
      "0                      NaN  \n",
      "1                      NaN  \n",
      "2                      NaN  \n",
      "3                      NaN  \n",
      "4                      NaN  \n"
     ]
    }
   ],
   "source": [
    "df = pd.read_csv('sealevel.csv')\n",
    "\n",
    "# Convert the \"Year\" column to datetime format\n",
    "df['Year'] = pd.to_datetime(df['Year'])\n",
    "\n",
    "# Extract the year from the datetime and overwrite the \"Year\" column\n",
    "df['Year'] = df['Year'].dt.year\n",
    "\n",
    "# Print the first few rows to verify the changes\n",
    "print(df.head())"
   ]
  },
  {
   "cell_type": "code",
   "execution_count": 127,
   "metadata": {},
   "outputs": [
    {
     "name": "stdout",
     "output_type": "stream",
     "text": [
      "           Year  CSIRO Adjusted Sea Level  Lower Error Bound  \\\n",
      "0    1880-03-15                  0.000000          -0.952756   \n",
      "1    1881-03-15                  0.220472          -0.732283   \n",
      "2    1882-03-15                 -0.440945          -1.346457   \n",
      "3    1883-03-15                 -0.232283          -1.129921   \n",
      "4    1884-03-15                  0.590551          -0.283465   \n",
      "..          ...                       ...                ...   \n",
      "130  2010-03-15                  8.901575           8.618110   \n",
      "131  2011-03-15                  8.964567           8.661417   \n",
      "132  2012-03-15                  9.326772           8.992126   \n",
      "133  2013-03-15                  8.980315           8.622047   \n",
      "134  2014-03-15                       NaN                NaN   \n",
      "\n",
      "     Upper Error Bound  NOAA Adjusted Sea Level  \n",
      "0             0.952756                      NaN  \n",
      "1             1.173228                      NaN  \n",
      "2             0.464567                      NaN  \n",
      "3             0.665354                      NaN  \n",
      "4             1.464567                      NaN  \n",
      "..                 ...                      ...  \n",
      "130           9.185039                 8.122973  \n",
      "131           9.267717                 8.053065  \n",
      "132           9.661417                 8.457058  \n",
      "133           9.338583                 8.546648  \n",
      "134                NaN                 8.663700  \n",
      "\n",
      "[135 rows x 5 columns]\n"
     ]
    }
   ],
   "source": [
    "## read data from file \n",
    "\n",
    "df = pd.read_csv(\"sealevel.csv\")\n",
    "print(df)\n"
   ]
  },
  {
   "cell_type": "code",
   "execution_count": 128,
   "metadata": {},
   "outputs": [
    {
     "name": "stdout",
     "output_type": "stream",
     "text": [
      "rows and columns of data (135, 5)\n"
     ]
    }
   ],
   "source": [
    "print(\"rows and columns of data\" , df.shape)\n"
   ]
  },
  {
   "cell_type": "code",
   "execution_count": 129,
   "metadata": {},
   "outputs": [
    {
     "name": "stdout",
     "output_type": "stream",
     "text": [
      "\n",
      "Data types:\n",
      " Year                         object\n",
      "CSIRO Adjusted Sea Level    float64\n",
      "Lower Error Bound           float64\n",
      "Upper Error Bound           float64\n",
      "NOAA Adjusted Sea Level     float64\n",
      "dtype: object\n"
     ]
    }
   ],
   "source": [
    "print(\"\\nData types:\\n\", df.dtypes)"
   ]
  },
  {
   "cell_type": "code",
   "execution_count": 130,
   "metadata": {},
   "outputs": [],
   "source": [
    "df.dropna(axis=0, inplace=True)  # axis=0 drops rows\n"
   ]
  },
  {
   "cell_type": "code",
   "execution_count": 131,
   "metadata": {},
   "outputs": [
    {
     "name": "stdout",
     "output_type": "stream",
     "text": [
      "\n",
      "Missing Values:\n",
      " Year                        0\n",
      "CSIRO Adjusted Sea Level    0\n",
      "Lower Error Bound           0\n",
      "Upper Error Bound           0\n",
      "NOAA Adjusted Sea Level     0\n",
      "dtype: int64\n"
     ]
    }
   ],
   "source": [
    "print(\"\\nMissing Values:\\n\", df.isnull().sum())"
   ]
  },
  {
   "cell_type": "code",
   "execution_count": 132,
   "metadata": {},
   "outputs": [],
   "source": [
    "df.dropna(axis=0, inplace=True)  # axis=0 drops rows\n"
   ]
  },
  {
   "cell_type": "code",
   "execution_count": 133,
   "metadata": {},
   "outputs": [
    {
     "name": "stdout",
     "output_type": "stream",
     "text": [
      "\n",
      "Missing Values:\n",
      " Year                        0\n",
      "CSIRO Adjusted Sea Level    0\n",
      "Lower Error Bound           0\n",
      "Upper Error Bound           0\n",
      "NOAA Adjusted Sea Level     0\n",
      "dtype: int64\n"
     ]
    }
   ],
   "source": [
    "print(\"\\nMissing Values:\\n\", df.isnull().sum())"
   ]
  },
  {
   "cell_type": "code",
   "execution_count": 134,
   "metadata": {},
   "outputs": [],
   "source": [
    "## Sealevel picdator data analysis\n",
    "y= df[\"CSIRO Adjusted Sea Level\"]\n",
    "x= df[\"Year\"]\n",
    "#plt.scatter(x,y)"
   ]
  },
  {
   "cell_type": "code",
   "execution_count": 135,
   "metadata": {},
   "outputs": [
    {
     "data": {
      "image/png": "[encoded data removed]",
      "text/plain": [
       "<Figure size 640x480 with 1 Axes>"
      ]
     },
     "metadata": {},
     "output_type": "display_data"
    }
   ],
   "source": [
    "\n",
    "\n",
    "# Convert the \"Year\" column to datetime format\n",
    "df['Year'] = pd.to_datetime(df['Year'])\n",
    "\n",
    "# Extract the year from the datetime and overwrite the \"Year\" column\n",
    "df['Year'] = df['Year'].dt.year\n",
    "\n",
    "# Perform linear regression\n",
    "slope, intercept, r_value, p_value, std_err = linregress(df['Year'], df['CSIRO Adjusted Sea Level'])\n",
    "\n",
    "# Create the line of best fit\n",
    "x_pred = np.arange(1880, 2051)  # Using numpy's arange to create an array\n",
    "y_pred = slope * x_pred + intercept\n",
    "\n",
    "# Plot the scatter plot\n",
    "plt.scatter(df['Year'], df['CSIRO Adjusted Sea Level'], label='Sea Level Data')\n",
    "\n",
    "# Plot the line of best fit\n",
    "plt.plot(x_pred, y_pred, color='red', label='Line of Best Fit')\n",
    "\n",
    "# Add a point for the prediction at year 2050\n",
    "plt.scatter(2050, slope * 2050 + intercept, color='green', label='Prediction (2050)')\n",
    "\n",
    "# Add labels and legend\n",
    "plt.xlabel('Year')\n",
    "plt.ylabel('Sea Level (mm)')\n",
    "plt.title('Sea Level Rise Over Time')\n",
    "plt.legend()\n",
    "\n",
    "# Show plot\n",
    "plt.grid(True)\n",
    "plt.show()\n"
   ]
  },
  {
   "cell_type": "code",
   "execution_count": 2,
   "metadata": {},
   "outputs": [
    {
     "ename": "NameError",
     "evalue": "name 'df' is not defined",
     "output_type": "error",
     "traceback": [
      "\u001b[1;31m---------------------------------------------------------------------------\u001b[0m",
      "\u001b[1;31mNameError\u001b[0m                                 Traceback (most recent call last)",
      "Cell \u001b[1;32mIn[2], line 8\u001b[0m\n\u001b[0;32m      4\u001b[0m \u001b[38;5;28;01mfrom\u001b[39;00m \u001b[38;5;21;01mscipy\u001b[39;00m \u001b[38;5;28;01mimport\u001b[39;00m stats\n\u001b[0;32m      6\u001b[0m \u001b[38;5;66;03m# Assuming df contains your dataset\u001b[39;00m\n\u001b[0;32m      7\u001b[0m \u001b[38;5;66;03m# Filter data from 2000 to the most recent year\u001b[39;00m\n\u001b[1;32m----> 8\u001b[0m filtered_data \u001b[38;5;241m=\u001b[39m \u001b[43mdf\u001b[49m[df[\u001b[38;5;124m\"\u001b[39m\u001b[38;5;124mYear\u001b[39m\u001b[38;5;124m\"\u001b[39m] \u001b[38;5;241m>\u001b[39m\u001b[38;5;241m=\u001b[39m \u001b[38;5;241m2000\u001b[39m]\n\u001b[0;32m     10\u001b[0m \u001b[38;5;66;03m# Extracting x and y values\u001b[39;00m\n\u001b[0;32m     11\u001b[0m x \u001b[38;5;241m=\u001b[39m filtered_data[\u001b[38;5;124m\"\u001b[39m\u001b[38;5;124mYear\u001b[39m\u001b[38;5;124m\"\u001b[39m]\n",
      "\u001b[1;31mNameError\u001b[0m: name 'df' is not defined"
     ]
    }
   ],
   "source": [
    "import pandas as pd\n",
    "import matplotlib.pyplot as plt\n",
    "import numpy as np\n",
    "from scipy import stats\n",
    "\n",
    "# Assuming df contains your dataset\n",
    "# Filter data from 2000 to the most recent year\n",
    "df = pd.read_csv(\"sealevel.csv\")\n",
    "filtered_data = df[df[\"Year\"] >= 2000]\n",
    "\n",
    "# Extracting x and y values\n",
    "x = filtered_data[\"Year\"]\n",
    "y = filtered_data[\"CSIRO Adjusted Sea Level\"]\n",
    "\n",
    "# Perform linear regression\n",
    "slope, intercept, r_value, p_value, std_err = stats.linregress(x, y)\n",
    "\n",
    "# Predicting sea level rise in 2050\n",
    "future_year = 2050\n",
    "predicted_sea_level = slope * future_year + intercept\n",
    "\n",
    "# Plotting\n",
    "plt.scatter(x, y, label=\"Data\")\n",
    "plt.plot(x, slope*x + intercept, color='red', label=\"Line of Best Fit\")\n",
    "\n",
    "# Plot the predicted sea level rise in 2050\n",
    "plt.scatter(future_year, predicted_sea_level, color='green', label=\"Predicted Sea Level in 2050\")\n",
    "\n",
    "plt.title(\"Sea Level Rise Trend and Prediction\")\n",
    "plt.xlabel(\"Year\")\n",
    "plt.ylabel(\"CSIRO Adjusted Sea Level (mm)\")\n",
    "plt.legend()\n",
    "plt.grid(True)\n",
    "plt.show()\n",
    "\n",
    "print(\"Predicted sea level in 2050:\", predicted_sea_level, \"mm\")\n"
   ]
  }
 ],
 "metadata": {
  "kernelspec": {
   "display_name": "Python 3",
   "language": "python",
   "name": "python3"
  },
  "language_info": {
   "codemirror_mode": {
    "name": "ipython",
    "version": 3
   },
   "file_extension": ".py",
   "mimetype": "text/x-python",
   "name": "python",
   "nbconvert_exporter": "python",
   "pygments_lexer": "ipython3",
   "version": "3.10.0"
  }
 },
 "nbformat": 4,
 "nbformat_minor": 2
}
